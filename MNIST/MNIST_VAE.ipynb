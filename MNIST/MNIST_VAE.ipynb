{
 "cells": [
  {
   "cell_type": "markdown",
   "source": [
    "https://avandekleut.github.io/vae/"
   ],
   "metadata": {
    "collapsed": false,
    "pycharm": {
     "name": "#%% md\n"
    }
   }
  },
  {
   "cell_type": "code",
   "execution_count": 6,
   "metadata": {
    "collapsed": true,
    "pycharm": {
     "name": "#%%\n"
    }
   },
   "outputs": [],
   "source": [
    "import torch; torch.manual_seed(0)\n",
    "import torch.nn as nn\n",
    "import torch.nn.functional as F\n",
    "import torch.utils\n",
    "import torch.distributions\n",
    "import torchvision\n",
    "import numpy as np\n",
    "import matplotlib.pyplot as plt\n",
    "plt.rcParams['figure.dpi'] = 200\n",
    "device = 'cuda' if torch.cuda.is_available() else 'cpu'"
   ]
  },
  {
   "cell_type": "code",
   "execution_count": 7,
   "outputs": [],
   "source": [
    "class VariationalEncoder(nn.Module):\n",
    "    def __init__(self, latent_dims):\n",
    "        super(VariationalEncoder, self).__init__()\n",
    "        self.linear1 = nn.Linear(784, 512)\n",
    "        self.linear2 = nn.Linear(512, latent_dims)\n",
    "        self.linear3 = nn.Linear(512, latent_dims)\n",
    "\n",
    "        self.N = torch.distributions.Normal(0, 1)\n",
    "        self.N.loc = self.N.loc.cuda() # hack to get sampling on the GPU\n",
    "        self.N.scale = self.N.scale.cuda()\n",
    "        self.kl = 0\n",
    "\n",
    "    def forward(self, x):\n",
    "        x = torch.flatten(x, start_dim=1)\n",
    "        x = F.relu(self.linear1(x))\n",
    "        mu =  self.linear2(x)\n",
    "        sigma = torch.exp(self.linear3(x))\n",
    "        z = mu + sigma*self.N.sample(mu.shape)\n",
    "        self.kl = (sigma**2 + mu**2 - torch.log(sigma) - 1/2).sum()\n",
    "        return z\n",
    "class Decoder(nn.Module):\n",
    "    def __init__(self, latent_dims):\n",
    "        super(Decoder, self).__init__()\n",
    "        self.linear1 = nn.Linear(latent_dims, 512)\n",
    "        self.linear2 = nn.Linear(512, 784)\n",
    "\n",
    "    def forward(self, z):\n",
    "        z = F.relu(self.linear1(z))\n",
    "        z = torch.sigmoid(self.linear2(z))\n",
    "        return z.reshape((-1, 1, 28, 28))"
   ],
   "metadata": {
    "collapsed": false,
    "pycharm": {
     "name": "#%%\n"
    }
   }
  },
  {
   "cell_type": "code",
   "execution_count": 8,
   "outputs": [],
   "source": [
    "class VariationalAutoencoder(nn.Module):\n",
    "    def __init__(self, latent_dims):\n",
    "        super(VariationalAutoencoder, self).__init__()\n",
    "        self.encoder = VariationalEncoder(latent_dims)\n",
    "        self.decoder = Decoder(latent_dims)\n",
    "\n",
    "    def forward(self, x):\n",
    "        z = self.encoder(x)\n",
    "        return self.decoder(z)"
   ],
   "metadata": {
    "collapsed": false,
    "pycharm": {
     "name": "#%%\n"
    }
   }
  },
  {
   "cell_type": "code",
   "execution_count": 9,
   "outputs": [],
   "source": [
    "def train(autoencoder, data, epochs=20):\n",
    "    opt = torch.optim.Adam(autoencoder.parameters())\n",
    "    for epoch in range(epochs):\n",
    "        for x, y in data:\n",
    "            x = x.to(device) # GPU\n",
    "            opt.zero_grad()\n",
    "            x_hat = autoencoder(x)\n",
    "            loss = ((x - x_hat)**2).sum() + autoencoder.encoder.kl\n",
    "            loss.backward()\n",
    "            opt.step()\n",
    "    return autoencoder"
   ],
   "metadata": {
    "collapsed": false,
    "pycharm": {
     "name": "#%%\n"
    }
   }
  },
  {
   "cell_type": "code",
   "execution_count": 10,
   "outputs": [],
   "source": [
    "latent_dims = 2\n",
    "data = torch.utils.data.DataLoader(\n",
    "        torchvision.datasets.MNIST('./data',\n",
    "               transform=torchvision.transforms.ToTensor(),\n",
    "               download=True),\n",
    "        batch_size=128,\n",
    "        shuffle=True)"
   ],
   "metadata": {
    "collapsed": false,
    "pycharm": {
     "name": "#%%\n"
    }
   }
  },
  {
   "cell_type": "code",
   "execution_count": 11,
   "outputs": [],
   "source": [
    "vae = VariationalAutoencoder(latent_dims).to(device) # GPU\n",
    "vae = train(vae, data)"
   ],
   "metadata": {
    "collapsed": false,
    "pycharm": {
     "name": "#%%\n"
    }
   }
  },
  {
   "cell_type": "code",
   "execution_count": null,
   "outputs": [],
   "source": [
    "def plot_latent(autoencoder, data, num_batches=100):\n",
    "    for i, (x, y) in enumerate(data):\n",
    "        z = autoencoder.encoder(x.to(device))\n",
    "        z = z.to('cpu').detach().numpy()\n",
    "        plt.scatter(z[:, 0], z[:, 1], c=y, cmap='tab10')\n",
    "        if i > num_batches:\n",
    "            plt.colorbar()\n",
    "            break\n",
    "def plot_reconstructed(autoencoder, r0=(-5, 10), r1=(-10, 5), n=12):\n",
    "    w = 28\n",
    "    img = np.zeros((n*w, n*w))\n",
    "    for i, y in enumerate(np.linspace(*r1, n)):\n",
    "        for j, x in enumerate(np.linspace(*r0, n)):\n",
    "            z = torch.Tensor([[x, y]]).to(device)\n",
    "            x_hat = autoencoder.decoder(z)\n",
    "            x_hat = x_hat.reshape(28, 28).to('cpu').detach().numpy()\n",
    "            img[(n-1-i)*w:(n-1-i+1)*w, j*w:(j+1)*w] = x_hat\n",
    "    plt.imshow(img, extent=[*r0, *r1])\n",
    "plot_latent(vae, data)"
   ],
   "metadata": {
    "collapsed": false,
    "pycharm": {
     "name": "#%%\n",
     "is_executing": true
    }
   }
  },
  {
   "cell_type": "code",
   "execution_count": null,
   "outputs": [],
   "source": [
    "plot_reconstructed(vae, r0=(-3, 3), r1=(-3, 3))"
   ],
   "metadata": {
    "collapsed": false,
    "pycharm": {
     "name": "#%%\n",
     "is_executing": true
    }
   }
  },
  {
   "cell_type": "code",
   "execution_count": null,
   "outputs": [],
   "source": [
    "# interpolation\n",
    "def interpolate(autoencoder, x_1, x_2, n=12):\n",
    "    z_1 = autoencoder.encoder(x_1)\n",
    "    z_2 = autoencoder.encoder(x_2)\n",
    "    z = torch.stack([z_1 + (z_2 - z_1)*t for t in np.linspace(0, 1, n)])\n",
    "    interpolate_list = autoencoder.decoder(z)\n",
    "    interpolate_list = interpolate_list.to('cpu').detach().numpy()\n",
    "\n",
    "    w = 28\n",
    "    img = np.zeros((w, n*w))\n",
    "    for i, x_hat in enumerate(interpolate_list):\n",
    "        img[:, i*w:(i+1)*w] = x_hat.reshape(28, 28)\n",
    "    plt.imshow(img)\n",
    "    plt.xticks([])\n",
    "    plt.yticks([])\n",
    "\n",
    "x, y = data.__iter__().next() # hack to grab a batch\n",
    "x_1 = x[y == 1][1].to(device) # find a 1\n",
    "x_2 = x[y == 0][1].to(device) # find a 0\n",
    "\n",
    "interpolate(vae, x_1, x_2, n=20)"
   ],
   "metadata": {
    "collapsed": false,
    "pycharm": {
     "name": "#%%\n",
     "is_executing": true
    }
   }
  },
  {
   "cell_type": "code",
   "execution_count": 16,
   "outputs": [],
   "source": [
    "# interpolation to gif\n",
    "from PIL import Image\n",
    "\n",
    "def interpolate_gif(autoencoder, filename, x_1, x_2, n=100):\n",
    "    z_1 = autoencoder.encoder(x_1)\n",
    "    z_2 = autoencoder.encoder(x_2)\n",
    "\n",
    "    z = torch.stack([z_1 + (z_2 - z_1)*t for t in np.linspace(0, 1, n)])\n",
    "\n",
    "    interpolate_list = autoencoder.decoder(z)\n",
    "    interpolate_list = interpolate_list.to('cpu').detach().numpy()*255\n",
    "\n",
    "    images_list = [Image.fromarray(img.reshape(28, 28)).resize((256, 256)) for img in interpolate_list]\n",
    "    images_list = images_list + images_list[::-1] # loop back beginning\n",
    "\n",
    "    images_list[0].save(\n",
    "        f'{filename}.gif',\n",
    "        save_all=True,\n",
    "        append_images=images_list[1:],\n",
    "        loop=1)\n",
    "interpolate_gif(vae, \"vae\", x_1, x_2)"
   ],
   "metadata": {
    "collapsed": false,
    "pycharm": {
     "name": "#%%\n"
    }
   }
  },
  {
   "cell_type": "code",
   "execution_count": null,
   "outputs": [],
   "source": [],
   "metadata": {
    "collapsed": false,
    "pycharm": {
     "name": "#%%\n"
    }
   }
  },
  {
   "cell_type": "code",
   "execution_count": null,
   "outputs": [],
   "source": [
    "n=20\n",
    "autoencoder=vae\n",
    "x, y = data.__iter__().next() # hack to grab a batch\n",
    "x_1 = x[y == 1][1].to(device) # find a 1\n",
    "x_2 = x[y == 4][1].to(device) # find a 0\n",
    "\n",
    "z_1 = autoencoder.encoder(x_1)\n",
    "z_2 = autoencoder.encoder(x_2)\n",
    "z = torch.stack([z_1 + (z_2 - z_1)*t for t in np.linspace(0, 1, n)])\n",
    "interpolate_list = autoencoder.decoder(z)\n",
    "interpolate_list = interpolate_list.to('cpu').detach().numpy()\n",
    "\n",
    "w = 28\n",
    "img = np.zeros((w, n*w))\n",
    "for i, x_hat in enumerate(interpolate_list):\n",
    "    img[:, i*w:(i+1)*w] = x_hat.reshape(28, 28)\n",
    "plt.imshow(img)\n",
    "plt.xticks([])\n",
    "plt.yticks([])\n",
    "\n"
   ],
   "metadata": {
    "collapsed": false,
    "pycharm": {
     "name": "#%%\n",
     "is_executing": true
    }
   }
  }
 ],
 "metadata": {
  "kernelspec": {
   "display_name": "Python 3",
   "language": "python",
   "name": "python3"
  },
  "language_info": {
   "codemirror_mode": {
    "name": "ipython",
    "version": 2
   },
   "file_extension": ".py",
   "mimetype": "text/x-python",
   "name": "python",
   "nbconvert_exporter": "python",
   "pygments_lexer": "ipython2",
   "version": "2.7.6"
  }
 },
 "nbformat": 4,
 "nbformat_minor": 0
}